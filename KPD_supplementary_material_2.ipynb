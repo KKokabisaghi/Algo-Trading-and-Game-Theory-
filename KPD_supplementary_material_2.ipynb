{
  "nbformat": 4,
  "nbformat_minor": 0,
  "metadata": {
    "colab": {
      "name": "KPD_supplementary_material_2.ipynb",
      "provenance": [],
      "include_colab_link": true
    },
    "kernelspec": {
      "name": "python3",
      "display_name": "Python 3"
    }
  },
  "cells": [
    {
      "cell_type": "markdown",
      "metadata": {
        "id": "view-in-github",
        "colab_type": "text"
      },
      "source": [
        "<a href=\"https://colab.research.google.com/github/Karen-20/Karen/blob/master/KPD_supplementary_material_2.ipynb\" target=\"_parent\"><img src=\"https://colab.research.google.com/assets/colab-badge.svg\" alt=\"Open In Colab\"/></a>"
      ]
    },
    {
      "cell_type": "code",
      "metadata": {
        "id": "p-KvCKkeyiQH",
        "colab_type": "code",
        "colab": {}
      },
      "source": [
        "# Import required packages\n",
        "import numpy as np\n",
        "from sympy import *\n",
        "\n",
        "\n",
        "import matplotlib.pyplot as plt #Required packages for plotting \n",
        "from matplotlib import rcParams\n",
        "plt.rcParams[\"font.weight\"] = \"bold\"# Bold text in plot\n",
        "plt.rcParams[\"axes.labelweight\"] = \"bold\""
      ],
      "execution_count": 0,
      "outputs": []
    },
    {
      "cell_type": "code",
      "metadata": {
        "id": "bA5xytuQyzDw",
        "colab_type": "code",
        "outputId": "9fd70ec4-67bc-48ba-b4a2-ea68eac00991",
        "colab": {
          "base_uri": "https://localhost:8080/",
          "height": 72
        }
      },
      "source": [
        "# Introduce the primary parameters as Symbol\n",
        "\n",
        "from sympy.abc import s, alpha, mu, delta, gamma, sigma, p\n",
        "\n",
        "H = symbols('H', positive=True)\n",
        "\n",
        "print(H.assumptions0)\n",
        "\n",
        "# introduce the symbols for secondary parameters (are functions of the primary parameters)\n",
        "\n",
        "from sympy.abc import beta, g,h,q, theta \n",
        "alphabar = symbols('alphabar')\n",
        "mubar = symbols('mubar')\n",
        "thetabar = symbols('thetabar')\n",
        "m = 1-mubar\n",
        "\n",
        "#  Introduce some numerical values for the primary paramaters and use them \n",
        "#  to compute the corresponding values for the secondary (i.e. derived) parameters\n",
        "\n",
        "alpha_val = .45\n",
        "mu_val  = .5\n",
        "delta_val = .5\n",
        "H_val = 5\n",
        "gamma_val = 1.5\n",
        "sigma_val =1\n",
        "s_val = .45\n",
        "#\n",
        "beta_val = alpha_val/(alpha_val + mu_val)\n",
        "alphabar_val = alpha_val * delta_val /2\n",
        "mubar_val = mu_val * delta_val/2\n",
        "q_val = gamma_val -1\n",
        "beta_val = alpha_val/(alpha_val+mu_val)\n",
        "theta_val = 2*alpha_val*mu_val/(alpha_val+mu_val)\n",
        "thetabar_val = theta_val*delta_val/2\n",
        "m_val = 1- mubar_val\n",
        "\n",
        "#  Create a dictionary that makes the appropriate substitutions for numerical experiments \n",
        "\n",
        "\n",
        "dict_subs_numerical_vals = {alpha: alpha_val, mu : mu_val, delta :delta_val, H : H_val, gamma :gamma_val, \n",
        "                            beta: beta_val, mubar:mubar_val, theta :theta_val, thetabar :thetabar_val, alphabar: alphabar_val, m:m_val}\n",
        "\n",
        "print(dict_subs_numerical_vals)\n"
      ],
      "execution_count": 0,
      "outputs": [
        {
          "output_type": "stream",
          "text": [
            "{'positive': True, 'nonzero': True, 'zero': False, 'nonpositive': False, 'negative': False, 'complex': True, 'nonnegative': True, 'commutative': True, 'imaginary': False, 'real': True, 'hermitian': True}\n",
            "{alpha: 0.45, mu: 0.5, delta: 0.5, H: 5, gamma: 1.5, beta: 0.4736842105263158, mubar: 0.125, theta: 0.4736842105263158, thetabar: 0.11842105263157895, alphabar: 0.1125, -mubar + 1: 0.875}\n"
          ],
          "name": "stdout"
        }
      ]
    },
    {
      "cell_type": "markdown",
      "metadata": {
        "id": "Tl3rl_Qdx64j",
        "colab_type": "text"
      },
      "source": [
        "[link text](https://)\n",
        "#  Dependence of $h$ and $g$ on sniping probability $p$\n",
        "\n",
        "If $p$ denotes the probability that an indvidual agent will snipe, then \n",
        "we have two important derived probabilities: \n",
        "\n",
        "  1. $h(p) = P(\\mbox{MM will lose the race})$\n",
        "  2. $g(p) = P(\\mbox{bandit will win race} \\,| \\, \\mbox{he enters the race})$\n",
        "\n",
        "In the paper it was shown that \n",
        "\n",
        "$$  h(0) = 0 \\quad\\quad h(1) = \\frac{H-1}{H}  \\quad\\quad h'(0) = \\frac{H-1}{2} \n",
        "\\quad \\quad h'(1) = 1/H$$\n",
        "\n",
        "$$ g(0) = 1/2 \\quad\\quad g(1) = 1/H \\quad \\quad g'(0) = - \\frac{H-2}{6} \\quad \\quad \n",
        "g'(1) = -\\frac{H-2}{H(H-1)}   $$\n"
      ]
    },
    {
      "cell_type": "code",
      "metadata": {
        "id": "HoGzjmOjxj3E",
        "colab_type": "code",
        "outputId": "3024fab0-9e3a-4829-979e-cc4d7e11d68d",
        "colab": {
          "base_uri": "https://localhost:8080/",
          "height": 497
        }
      },
      "source": [
        "\n",
        "print('=== h(p) in compact and expanded form: ')\n",
        "print('')\n",
        "H =Symbol(\"H\",real = True, positive = True)\n",
        "p =Symbol(\"p\",real = True, positive = True)\n",
        "\n",
        "\n",
        "h = ( p*H - 1 + (1-p)**H)/ (p*H)\n",
        "# By expanding the binomials, we can recast h(p) to :\n",
        "h_expanded_low_order = (p*(H-1)/2) - ((H-1)*(H-2)/6)*p**2 \n",
        "h_expanded = h_expanded_low_order  + Order(p**3)  #eq.68\n",
        "\n",
        "print('Compact:  h(p) = ', h)\n",
        "print('Expanded: h(p) = ', h_expanded)\n",
        "print('')\n",
        "print('Substituting p=0 in the expanded, and p=1 in the compact form yields: ')\n",
        "print('')\n",
        "h_1 = h.subs({p:1})\n",
        "h_0 = h_expanded.subs({p:0}) \n",
        "print('h(0) = ', h_0)\n",
        "print('h(1) = ', h_1)\n",
        "\n",
        "print('')\n",
        "print('--- Derivatives of h ---')\n",
        "print('')\n",
        "#----------------------------------------\n",
        "\n",
        "dh_dp = diff(h,p)\n",
        "dh_dp_expanded = diff(h_expanded, p)\n",
        "print('dh/dp_expanded = ', dh_dp)\n",
        "\n",
        "dh_dp_0 = limit(dh_dp,p,0,'+')  # limit for p--> 0+ (i.e. limit from the right)\n",
        "dh_dp_1 = limit(dh_dp,p,1,'-')  # limit for p--> 1- (i.e. limit from the left)\n",
        "\n",
        "print(\"h'(0) = \" ,  dh_dp_0)\n",
        "print(\"h'(1) = \" ,  dh_dp_1)\n",
        "\n",
        "print('')\n",
        "print('==== g(p) in compact and expanded form ')\n",
        "\n",
        "g =  h / ((H-1)*p)\n",
        "# g_expanded = (1/((H-1)*p))*h_expanded\n",
        "g_expanded_0 = h_expanded_low_order/((H-1)*p)\n",
        "g_expanded_0 = g_expanded_0.cancel().collect(p)\n",
        "g_expanded = g_expanded_0 + Order(p**2)\n",
        "\n",
        "print('Compact:  g(p) = ', g)\n",
        "print('Expanded: g(p) = ', g_expanded)\n",
        "\n",
        "g_0 = g_expanded.subs({p:0})\n",
        "g_1 = g.subs({p:1}) #KPD.eq.71\n",
        "print('g(1) = ', g_1)\n",
        "print('g(0) = ', g_0)\n",
        "\n",
        "\n",
        "print('')\n",
        "print('------------- derivatives of g -----')\n",
        "print(' ')\n",
        "dg_dp = diff(g,p) #KPD.eq. 74\n",
        "print(\"g'(p) = \", dg_dp)\n",
        "\n",
        "dg_dp_0 = limit(dg_dp, p , 0 , '+')\n",
        "print(\"g'(0) =\", dg_dp_0)\n",
        "\n",
        "dg_dp_1 = (dh_dp_1 *p - h_1)/ (H-1)* p**2\n",
        "dg_dp_1 = dg_dp_1.subs({p:1}).simplify()\n",
        "\n",
        "print(\"g'(1) =\", dg_dp_1)"
      ],
      "execution_count": 0,
      "outputs": [
        {
          "output_type": "stream",
          "text": [
            "=== h(p) in compact and expanded form: \n",
            "\n",
            "Compact:  h(p) =  (H*p + (-p + 1)**H - 1)/(H*p)\n",
            "Expanded: h(p) =  p*(H - 1)/2 - p**2*(H - 2)*(H - 1)/6 + O(p**3)\n",
            "\n",
            "Substituting p=0 in the expanded, and p=1 in the compact form yields: \n",
            "\n",
            "h(0) =  0\n",
            "h(1) =  (H - 1)/H\n",
            "\n",
            "--- Derivatives of h ---\n",
            "\n",
            "dh/dp_expanded =  (H - H*(-p + 1)**H/(-p + 1))/(H*p) - (H*p + (-p + 1)**H - 1)/(H*p**2)\n",
            "h'(0) =  H/2 - 1/2\n",
            "h'(1) =  1/H\n",
            "\n",
            "==== g(p) in compact and expanded form \n",
            "Compact:  g(p) =  (H*p + (-p + 1)**H - 1)/(H*p**2*(H - 1))\n",
            "Expanded: g(p) =  1/2 + p*(-H/6 + 1/3) + O(p**2)\n",
            "g(1) =  1/H\n",
            "g(0) =  1/2\n",
            "\n",
            "------------- derivatives of g -----\n",
            " \n",
            "g'(p) =  (H - H*(-p + 1)**H/(-p + 1))/(H*p**2*(H - 1)) - 2*(H*p + (-p + 1)**H - 1)/(H*p**3*(H - 1))\n",
            "g'(0) = -H/6 + 1/3\n",
            "g'(1) = (-H + 2)/(H*(H - 1))\n"
          ],
          "name": "stdout"
        }
      ]
    }
  ]
}